{
 "cells": [
  {
   "cell_type": "code",
   "execution_count": 25,
   "id": "49255710",
   "metadata": {},
   "outputs": [],
   "source": [
    "import os\n",
    "\n",
    "import numpy as np\n",
    "\n",
    "import shutil\n",
    "\n",
    "rootdir= '/home/ictsupport/Downloads/DATA SET/IMAGES/IEEE/Images' #path of the original folder\n",
    "\n",
    "classes = ['NormalImages']\n",
    "\n",
    "for i in classes:\n",
    "    os.makedirs(rootdir +'/train/' + i)\n",
    "    os.makedirs(rootdir +'/test/' + i)\n",
    "    source = rootdir + '/' + i\n",
    "    allFileNames = os.listdir(source)\n",
    "    np.random.shuffle(allFileNames)\n",
    "    test_ratio = 0.25\n",
    "    train_FileNames, test_FileNames = np.split(np.array(allFileNames),\n",
    "                                                      [int(len(allFileNames)* (1 - test_ratio))])\n",
    "    train_FileNames = [source+'/'+ name for name in train_FileNames.tolist()]\n",
    "    test_FileNames = [source+'/' + name for name in test_FileNames.tolist()]\n",
    "    for name in train_FileNames:\n",
    "        shutil.copy(name, rootdir +'/train/' + i)\n",
    "        for name in test_FileNames:\n",
    "            shutil.copy(name, rootdir +'/test/' + i)\n"
   ]
  },
  {
   "cell_type": "code",
   "execution_count": null,
   "id": "36a39c32",
   "metadata": {},
   "outputs": [],
   "source": []
  },
  {
   "cell_type": "code",
   "execution_count": null,
   "id": "2dd04a61",
   "metadata": {},
   "outputs": [],
   "source": []
  }
 ],
 "metadata": {
  "kernelspec": {
   "display_name": "Python 3",
   "language": "python",
   "name": "python3"
  },
  "language_info": {
   "codemirror_mode": {
    "name": "ipython",
    "version": 3
   },
   "file_extension": ".py",
   "mimetype": "text/x-python",
   "name": "python",
   "nbconvert_exporter": "python",
   "pygments_lexer": "ipython3",
   "version": "3.8.8"
  }
 },
 "nbformat": 4,
 "nbformat_minor": 5
}
